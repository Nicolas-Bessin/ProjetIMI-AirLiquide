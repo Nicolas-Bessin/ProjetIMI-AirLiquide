{
 "cells": [
  {
   "cell_type": "markdown",
   "metadata": {},
   "source": [
    "# Paramètres <br/>\n",
    "$D$ la demande du client <br/>\n",
    "$PPA_t$ la production du PPA (supposée gratuite) <br/>\n",
    "$p_t$ le prix de l'éléricité sur le marché <br/>\n",
    "$e_{bat}$ l'éfficité de la batterie <br/>\n",
    "$c_{bat}$ la capacité de la batterie <br/>\n",
    "$f_{bat}$ le flux maximal de la batterie <br/>\n",
    "$e_{elec}$ l'éfficité de l'électrolyseur <br/>\n",
    "$c_{elec}$ la capacité de l'électrolyseur <br/>\n",
    "$c_{tank}$ la capacité du réservoir <br/>\n",
    "\n",
    "# Variables <br/>\n",
    "$\\text{charge}_t$ la charge de la batterie à l'heure $t$ (en MWh)<br/>\n",
    "$\\text{prod}_t$ la production de l'électrolyseur à l'heure $t$ (en kg $H_2$)<br/>\n",
    "$\\text{stock}_t$ le stock d'hydrogène dans le reservoir à l'heure $t$ (en kg $H_2$)<br/>\n",
    "$\\text{elec}_t$ la consommation d'élécricité venant de la grille à l'heure $t$ (en MWh) <br/>\n",
    "\n",
    "# Contraintes <br/>\n",
    "\n",
    "Satisfaction de la demande du client : <br/>\n",
    "$\\forall t \\in [|1, T|], \\text{prod}_t + \\text{stock}_t = D_t + \\text{stock}_{t+1}$ <br/>\n",
    "Consomation d'élécricité : <br/>\n",
    "$\\forall t \\in [|1, T|], \\text{elec}_t + \\text{PPA}_t + e_{bat} \\times \\text{charge}_t = e_{elec} \\times \\text{prod}_t + \\text{charge}_{t+1}$ <br/>\n",
    "Contraintes de capacité : <br/>\n",
    "$\\forall t \\in [|1, T|], \\text{charge}_t \\leq c_{bat}$ <br/>\n",
    "$\\forall t \\in [|1, T|], \\text{prod}_t \\times e_{elec} \\leq c_{elec} $ <br/>\n",
    "$\\forall t \\in [|1, T|], \\text{stock}_t \\leq c_{tank} $ <br/>\n",
    "Contraintes de flux : <br/>\n",
    "$\\forall t \\in [|1, T|], |\\text{charge}_t - \\text{charge}_{t+1}| \\leq f_{bat} $ <br/>\n",
    "\n",
    "# Objectif <br/>\n",
    "\n",
    "Minimiser le coût de l'élécricité : <br/>\n",
    "$\\min \\sum_{t=1}^{T} p_t \\times \\text{elec}_t$"
   ]
  },
  {
   "cell_type": "code",
   "execution_count": 1,
   "metadata": {},
   "outputs": [],
   "source": [
    "from pulp import *"
   ]
  },
  {
   "cell_type": "code",
   "execution_count": 4,
   "metadata": {},
   "outputs": [
    {
     "data": {
      "text/plain": [
       "24"
      ]
     },
     "execution_count": 4,
     "metadata": {},
     "output_type": "execute_result"
    }
   ],
   "source": [
    "D = 1000\n",
    "PPA = [50] * 18 + [40, 30, 20, 10, 0, 50]\n",
    "Pt = [20.79, 17.41, 16.24, 11.9, 9.77, 15.88, 24.88, 29.7, 35.01, 33.95, 29.9, 29.03]\n",
    "Pt += [27.07, 26.43, 27.53, 29.05, 31.42, 39.92, 41.3, 41.51, 39.75, 30.13, 30.36, 32.4]\n",
    "\n",
    "ebat = 0.9\n"
   ]
  }
 ],
 "metadata": {
  "kernelspec": {
   "display_name": ".local",
   "language": "python",
   "name": "python3"
  },
  "language_info": {
   "codemirror_mode": {
    "name": "ipython",
    "version": 3
   },
   "file_extension": ".py",
   "mimetype": "text/x-python",
   "name": "python",
   "nbconvert_exporter": "python",
   "pygments_lexer": "ipython3",
   "version": "3.11.2"
  }
 },
 "nbformat": 4,
 "nbformat_minor": 2
}
